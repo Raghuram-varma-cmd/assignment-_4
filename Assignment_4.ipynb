{
  "nbformat": 4,
  "nbformat_minor": 0,
  "metadata": {
    "colab": {
      "provenance": []
    },
    "kernelspec": {
      "name": "python3",
      "display_name": "Python 3"
    },
    "language_info": {
      "name": "python"
    }
  },
  "cells": [
    {
      "cell_type": "markdown",
      "source": [
        "##Write a Python program to create a lambda function that adds 25 to a given number passed in as an argument.\n",
        "\n",
        "\n",
        "sample input: 10\n",
        "\n",
        "sample output: 35"
      ],
      "metadata": {
        "id": "Y6q6NBl7QMWf"
      }
    },
    {
      "cell_type": "code",
      "source": [
        "x =lambda x:x+25 \n",
        "\n",
        "print(x(10))"
      ],
      "metadata": {
        "colab": {
          "base_uri": "https://localhost:8080/"
        },
        "id": "okI0trZSQN3r",
        "outputId": "abcf034d-7134-4eee-99cb-aea8d7d6eb1f"
      },
      "execution_count": 4,
      "outputs": [
        {
          "output_type": "stream",
          "name": "stdout",
          "text": [
            "35\n"
          ]
        }
      ]
    },
    {
      "cell_type": "markdown",
      "source": [
        "##Write a Python program to triple all numbers of a given list of integers. Use Python map.\n",
        "\n",
        "sample list: [1, 2, 3, 4, 5, 6, 7]\n",
        "\n",
        "\n",
        "\n",
        "Triple of list numbers:\n",
        "\n",
        "[3, 6, 9, 12, 15, 18, 21]\n",
        "\n"
      ],
      "metadata": {
        "id": "1gnj1mnBQ5BM"
      }
    },
    {
      "cell_type": "code",
      "source": [
        "x=[1,2,3,4,5,6,7]\n",
        "\n",
        "y= list(map(lambda x:x*3, x))\n",
        "\n",
        "print(y)"
      ],
      "metadata": {
        "colab": {
          "base_uri": "https://localhost:8080/"
        },
        "id": "z10JVUYqQ7Tu",
        "outputId": "1bc13c32-095a-4023-a126-83b2a61cdc5d"
      },
      "execution_count": 6,
      "outputs": [
        {
          "output_type": "stream",
          "name": "stdout",
          "text": [
            "[3, 6, 9, 12, 15, 18, 21]\n"
          ]
        }
      ]
    },
    {
      "cell_type": "markdown",
      "source": [
        "##Write a Python program to square the elements of a list using map() function.\n",
        "\n",
        "Sample List: [4, 5, 2, 9]\n",
        "\n",
        "Square the elements of the list:\n",
        "\n",
        "[16, 25, 4, 81]\n",
        "\n"
      ],
      "metadata": {
        "id": "ipalIICwRjzE"
      }
    },
    {
      "cell_type": "code",
      "source": [
        "a=[4,5,2,9]\n",
        "\n",
        "b= list(map(lambda a:a**2, a))\n",
        "\n",
        "print(b)"
      ],
      "metadata": {
        "colab": {
          "base_uri": "https://localhost:8080/"
        },
        "id": "r-o-qZ0BRk_L",
        "outputId": "87f15085-6310-4f59-ca04-be99460e33d5"
      },
      "execution_count": 9,
      "outputs": [
        {
          "output_type": "stream",
          "name": "stdout",
          "text": [
            "[16, 25, 4, 81]\n"
          ]
        }
      ]
    },
    {
      "cell_type": "code",
      "source": [],
      "metadata": {
        "id": "iesF2bKlRxxH"
      },
      "execution_count": null,
      "outputs": []
    }
  ]
}